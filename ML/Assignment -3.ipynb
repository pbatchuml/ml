{
 "cells": [
  {
   "cell_type": "markdown",
   "metadata": {},
   "source": [
    "## 2 Implement List comprehensions to produce the following lists.\n",
    "\n",
    "['x', 'xx', 'xxx', 'xxxx', 'y', 'yy', 'yyy', 'yyyy', 'z', 'zz', 'zzz', 'zzzz']\n",
    "['x', 'y', 'z', 'xx', 'yy', 'zz', 'xxx', 'yyy', 'zzz', 'xxxx', 'yyyy', 'zzzz']\n",
    "[[2], [3], [4], [3], [4], [5], [4], [5], [6]]\n",
    "[[2, 3, 4, 5], [3, 4, 5, 6],[4, 5, 6, 7], [5, 6, 7, 8]]\n",
    "[(1, 1), (2, 1), (3, 1), (1, 2), (2, 2), (3, 2), (1, 3), (2, 3), (3, 3)]"
   ]
  },
  {
   "cell_type": "code",
   "execution_count": 1,
   "metadata": {},
   "outputs": [
    {
     "name": "stdout",
     "output_type": "stream",
     "text": [
      "['x', 'xx', 'xxx', 'xxxx', 'y', 'yy', 'yyy', 'yyyy', 'z', 'zz', 'zzz', 'zzzz']\n",
      "['x', 'y', 'z', 'xx', 'yy', 'zz', 'xxx', 'yyy', 'zzz', 'xxxx', 'yyyy', 'zzzz']\n",
      "[[2], [3], [4], [3], [4], [5], [4], [5], [6]]\n",
      "[[2, 3, 4, 5], [3, 4, 5, 6], [4, 5, 6, 7], [5, 6, 7, 8]]\n",
      "[(1, 1), (2, 1), (3, 1), (1, 2), (2, 2), (3, 2), (1, 3), (2, 3), (3, 3)]\n"
     ]
    }
   ],
   "source": [
    "ip_str = 'xyz'\n",
    "lst = [j*i for j in ip_str for i in range(1,5)]\n",
    "print(lst)\n",
    "\n",
    "next_lst = [j*i for i in range(1,5) for j in ip_str]\n",
    "print(next_lst)\n",
    "\n",
    "matrix = [[2,3,4], [3,4,5], [4,5,6]]\n",
    "l_matrix = [[val] for sublist in matrix  for val in sublist]\n",
    "print(l_matrix)\n",
    "\n",
    "f_list = [[i,i+1,i+2,i+3] for i in range(2,6)]\n",
    "print(f_list)\n",
    "\n",
    "tup_list = [(j,i) for i in range(1,4) for j in range(1,4)]\n",
    "print(tup_list)"
   ]
  },
  {
   "cell_type": "markdown",
   "metadata": {},
   "source": [
    "## Write a Python program to implement your own myfilter() function which works exactly like Python's built-in function filter()"
   ]
  },
  {
   "cell_type": "code",
   "execution_count": 6,
   "metadata": {},
   "outputs": [
    {
     "name": "stdout",
     "output_type": "stream",
     "text": [
      "None\n",
      "myfilter get odd numbers  [1, 3, 5]\n",
      "The input 5 is not iteratable\n",
      "myfilter validate iteratable input  None\n",
      "myfilter extract string from hetro list  ['test', 'strings']\n"
     ]
    }
   ],
   "source": [
    "def myfilter(func, lst):\n",
    "    try:\n",
    "        it = iter(lst)\n",
    "    except TypeError:\n",
    "        print(\"The input {} is not iteratable\".format(lst))\n",
    "        return None\n",
    "    result = []\n",
    "    for val in it:\n",
    "        if func(val):\n",
    "            result.append(val)\n",
    "        else:\n",
    "            continue\n",
    "    return result\n",
    "\n",
    "#List with only integers\n",
    "l = [1,2,3,4,5]\n",
    "\n",
    "#list with only strings\n",
    "s = [\"test\", \"strings\", 0, [1,2,3]]\n",
    "\n",
    "\n",
    "print(\"myfilter get odd numbers \",myfilter(lambda x: x%2, l))       \n",
    "print(\"myfilter validate iteratable input \",myfilter(lambda x: x%2 == 0, 5))\n",
    "print(\"myfilter extract string from hetro list \",myfilter(lambda x: type(x) == str, s))\n"
   ]
  },
  {
   "cell_type": "markdown",
   "metadata": {},
   "source": [
    "## Write a Python Program to implement your own myreduce() function which works exactly like Python's built-in function reduce()"
   ]
  },
  {
   "cell_type": "code",
   "execution_count": 7,
   "metadata": {},
   "outputs": [
    {
     "name": "stdout",
     "output_type": "stream",
     "text": [
      "myreduce get sum of elements of lists  15\n",
      "The input 5 is not iteratable\n",
      "myreduce validated iterator input  None\n",
      "myreduce perform op on string  teststrings\n"
     ]
    }
   ],
   "source": [
    "def myreduce(func, lst):\n",
    "    \n",
    "    try:\n",
    "        it = iter(lst)\n",
    "    except TypeError:\n",
    "        print(\"The input {} is not iteratable\".format(lst))\n",
    "        return None\n",
    "    result = next(it)\n",
    "    for val in it:\n",
    "        result = func(result, val)\n",
    "    return result\n",
    "\n",
    "#List with only integers\n",
    "l = [1,2,3,4,5]\n",
    "\n",
    "#list with only strings\n",
    "s = [\"test\", \"strings\"]\n",
    "\n",
    "\n",
    "\n",
    "#Try calling custom reduce function with multiple kinds of inputs\n",
    "print(\"myreduce get sum of elements of lists \", myreduce(lambda x,y:x+y, l))\n",
    "print(\"myreduce validated iterator input \",myreduce(lambda x,y:x+y, 5))\n",
    "print(\"myreduce perform op on string \",myreduce(lambda x,y:x+y, s))\n"
   ]
  },
  {
   "cell_type": "code",
   "execution_count": null,
   "metadata": {},
   "outputs": [],
   "source": []
  }
 ],
 "metadata": {
  "kernelspec": {
   "display_name": "Python 3",
   "language": "python",
   "name": "python3"
  },
  "language_info": {
   "codemirror_mode": {
    "name": "ipython",
    "version": 3
   },
   "file_extension": ".py",
   "mimetype": "text/x-python",
   "name": "python",
   "nbconvert_exporter": "python",
   "pygments_lexer": "ipython3",
   "version": "3.7.6"
  }
 },
 "nbformat": 4,
 "nbformat_minor": 4
}
